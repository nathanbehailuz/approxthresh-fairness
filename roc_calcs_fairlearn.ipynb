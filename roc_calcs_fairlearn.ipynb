{
 "cells": [
  {
   "cell_type": "code",
   "execution_count": 8,
   "metadata": {},
   "outputs": [],
   "source": [
    "from sklearn.model_selection import train_test_split\n",
    "import pandas as pd\n",
    "import numpy as np\n",
    "\n",
    "from sklearn.metrics import confusion_matrix\n",
    "\n",
    "import matplotlib.pyplot as plt\n",
    "from sklearn.utils import Bunch\n",
    "\n",
    "from fairlearn.postprocessing._constants import LABEL_KEY, SCORE_KEY\n",
    "from fairlearn.postprocessing._threshold_operation import ThresholdOperation\n",
    "\n",
    "import xgboost as xgb\n",
    "\n",
    "from sklearn.metrics import f1_score\n",
    "from itertools import product\n",
    "from scipy.spatial.distance import cdist\n",
    "\n",
    "from tqdm.auto import tqdm\n",
    "from concurrent.futures import ProcessPoolExecutor, as_completed\n",
    "\n",
    "import warnings\n",
    "\n",
    "\n",
    "from sklearn.metrics import balanced_accuracy_score, roc_auc_score, accuracy_score, f1_score, roc_curve\n",
    "\n",
    "from fairlearn.metrics import equalized_odds_ratio\n",
    "\n",
    "from ACSIncomeDataLoader import  load_synthetic_data\n",
    "\n",
    "from scipy.spatial.distance import cdist\n",
    "\n",
    "from typing import Callable\n",
    "\n",
    "import itertools\n",
    "\n",
    "import plotly.express as px\n",
    "import plotly.graph_objects as go\n"
   ]
  },
  {
   "cell_type": "code",
   "execution_count": 9,
   "metadata": {},
   "outputs": [],
   "source": [
    "def _extend_confusion_matrix(*, true_positives, false_positives, true_negatives, false_negatives):\n",
    "    return Bunch(\n",
    "        true_positives=true_positives,\n",
    "        false_positives=false_positives,\n",
    "        true_negatives=true_negatives,\n",
    "        false_negatives=false_negatives,\n",
    "        predicted_positives=(true_positives + false_positives),\n",
    "        predicted_negatives=(true_negatives + false_negatives),\n",
    "        positives=(true_positives + false_negatives),\n",
    "        negatives=(true_negatives + false_positives),\n",
    "        n=(true_positives + true_negatives + false_positives + false_negatives),\n",
    "    )\n",
    "\n",
    "\n",
    "METRIC_DICT = {\n",
    "    \"selection_rate\": lambda x: x.predicted_positives / x.n if x.n > 0 else 0,\n",
    "    \n",
    "    \"false_positive_rate\": lambda x: (\n",
    "        x.false_positives / x.negatives if x.negatives > 0 else 0\n",
    "    ),\n",
    "    \n",
    "    \"false_negative_rate\": lambda x: (\n",
    "        x.false_negatives / x.positives if x.positives > 0 else 0\n",
    "    ),\n",
    "    \n",
    "    \"true_positive_rate\": lambda x: (\n",
    "        x.true_positives / x.positives if x.positives > 0 else 0\n",
    "    ),\n",
    "    \n",
    "    \"true_negative_rate\": lambda x: (\n",
    "        x.true_negatives / x.negatives if x.negatives > 0 else 0\n",
    "    ),\n",
    "    \n",
    "    \"accuracy_score\": lambda x: (\n",
    "        (x.true_positives + x.true_negatives) / x.n if x.n > 0 else 0\n",
    "    ),\n",
    "    \n",
    "    \"balanced_accuracy_score\": lambda x: (\n",
    "        0.5 * (x.true_positives / x.positives if x.positives > 0 else 0) +\n",
    "        0.5 * (x.true_negatives / x.negatives if x.negatives > 0 else 0)\n",
    "    ),\n",
    "    \n",
    "    \"negative_predictive_value\": lambda x: (\n",
    "        x.true_negatives / (x.true_negatives + x.false_negatives) \n",
    "        if (x.true_negatives + x.false_negatives) > 0 else 0\n",
    "    ),\n",
    "    \n",
    "    \"precision\": lambda x: (\n",
    "        x.true_positives / (x.true_positives + x.false_positives)\n",
    "        if (x.true_positives + x.false_positives) > 0 else 0\n",
    "    ),\n",
    "    \n",
    "    \"recall\": lambda x: (\n",
    "        x.true_positives / (x.true_positives + x.false_negatives)\n",
    "        if (x.true_positives + x.false_negatives) > 0 else 0\n",
    "    ),\n",
    "    \n",
    "    \"f1_score\": lambda x: (\n",
    "        2 * (METRIC_DICT[\"precision\"](x) * METRIC_DICT[\"recall\"](x)) /\n",
    "        (METRIC_DICT[\"precision\"](x) + METRIC_DICT[\"recall\"](x))\n",
    "        if (METRIC_DICT[\"precision\"](x) + METRIC_DICT[\"recall\"](x)) > 0 else 0\n",
    "    )\n",
    "}\n",
    "\n"
   ]
  },
  {
   "cell_type": "code",
   "execution_count": 10,
   "metadata": {},
   "outputs": [],
   "source": [
    "def plot_ROC(data: dict, calculate_ROC_points: Callable[[dict], list]):\n",
    "    plt.figure(figsize=(8, 6))\n",
    "    for group_id, group_data in data.groupby('group'):\n",
    "        x, y, operation_list, objective_list, actual_counts_list, metrics_list = calculate_ROC_points(group_data)\n",
    "        plt.plot(x, y, marker='o', linestyle='-', label=f'Group {group_id}')\n",
    "    \n",
    "    plt.plot([0, 1], [0, 1], linestyle='--', color='gray')\n",
    "    plt.xlabel('ADJ False Positive Rate')\n",
    "    plt.ylabel('ADJ True Positive Rate')\n",
    "    plt.title('ROC Curve by Group')\n",
    "    plt.legend()\n",
    "    plt.grid(True)\n",
    "    plt.show()\n",
    "    return operation_list, objective_list, actual_counts_list, metrics_list\n",
    "\n",
    "\n",
    "def  plot_ROC_plotly(data: dict, calculate_ROC_points: Callable[[dict], list]):\n",
    "\n",
    "    fig = go.Figure()\n",
    "    for group_id, group_data in data.groupby('group'):\n",
    "        x, y, operation_list, objective_list, actual_counts_list, metrics_list = calculate_ROC_points(\n",
    "            group_data, \n",
    "            x_metric=\"false_positive_rate\", \n",
    "            y_metric=\"true_positive_rate\", \n",
    "            obj_metric=\"balanced_accuracy_score\"\n",
    "        )\n",
    "        fig.add_trace(go.Scatter(x=x, y=y, mode='lines+markers', name=f'Group {group_id}'))\n",
    "    \n",
    "    fig.add_trace(go.Scatter(x=[0, 1], y=[0, 1], mode='lines', name='Random', line=dict(dash='dash')))\n",
    "    fig.update_layout(title='ROC Curve by Group', xaxis_title='ADJ False Positive Rate', yaxis_title='ADJ True Positive Rate')\n",
    "    fig.show()\n",
    "    return operation_list, objective_list, actual_counts_list, metrics_list\n"
   ]
  },
  {
   "cell_type": "code",
   "execution_count": 11,
   "metadata": {},
   "outputs": [],
   "source": [
    "def create_interpolation_dict(thresholds_dict):\n",
    "    interpolation_dict = {}\n",
    "    for group, threshold in thresholds_dict.items():\n",
    "        op = ThresholdOperation(\">\", threshold)\n",
    "        # read from the repo \n",
    "        interpolation_dict[group] = Bunch(p0=1.0, operation0=op, p1=0.0, operation1=op)\n",
    "    return interpolation_dict\n",
    "\n",
    "\n",
    "def print_metrics(y_test, preds, group_test):\n",
    "    print('Balanced Accuracy: ', balanced_accuracy_score(y_test, preds))\n",
    "    print('ROC AUC: ', roc_auc_score(y_test, preds))\n",
    "    print('Accuracy: ', accuracy_score(y_test, preds))\n",
    "    print('F1 Score: ', f1_score(y_test, preds))\n",
    "    print('Equalized Odds Ratio: ', equalized_odds_ratio(y_test, preds, sensitive_features=group_test))\n",
    "    print()\n",
    "\n",
    "\n",
    "def _get_counts(labels):\n",
    "    \"\"\"Return the overall, positive, and negative counts of the labels.\n",
    "\n",
    "    :param labels: the labels of the samples\n",
    "    :type labels: list\n",
    "    :return: a tuple containing the overall, positive, and negative counts of the labels\n",
    "    :rtype: tuple of int, int, int\n",
    "    \"\"\"\n",
    "    n = len(labels)\n",
    "    n_positive = sum(labels)\n",
    "    n_negative = n - n_positive\n",
    "    return n, n_positive, n_negative\n"
   ]
  },
  {
   "cell_type": "code",
   "execution_count": 12,
   "metadata": {},
   "outputs": [],
   "source": [
    "def calculate_ROC_points(data, \n",
    "                         x_metric=\"false_positive_rate\", \n",
    "                         y_metric=\"true_positive_rate\", \n",
    "                         obj_metric=\"balanced_accuracy_score\"):\n",
    "    scores = data['score'].tolist()\n",
    "    labels = data['label'].tolist()\n",
    "\n",
    "    data_sorted = data.sort_values(by=SCORE_KEY, ascending=False)\n",
    "\n",
    "    scores = list(data_sorted[SCORE_KEY])\n",
    "    labels = list(data_sorted[LABEL_KEY])\n",
    "\n",
    "    n, n_positive, n_negative = _get_counts(labels)\n",
    "    \n",
    "    scores.append(-np.inf)\n",
    "    labels.append(np.nan)\n",
    "    \n",
    "    thresholds = np.unique(scores)\n",
    "    thresholds = np.append(thresholds, thresholds[-1] + 1) \n",
    "    \n",
    "    i = 0\n",
    "    # count[0] -> false_positives \n",
    "    # count[1] -> true_positives \n",
    "    count = [0, 0]\n",
    "\n",
    "    x_list, y_list, operation_list, objective_list, actual_counts_list, metrics_list = [], [], [], [], [], []\n",
    "    while i < n:\n",
    "        # special handling of the initial point\n",
    "        if x_list == []:\n",
    "            threshold = np.inf\n",
    "        else:\n",
    "            threshold = scores[i]\n",
    "            \n",
    "            # calculate tp and fp for every threshold value\n",
    "            while scores[i] == threshold:\n",
    "                count[labels[i]] += 1\n",
    "                i += 1\n",
    "            threshold = (threshold + scores[i]) / 2\n",
    "\n",
    "        # calculate the rest of the metrics and store it\n",
    "        actual_counts = _extend_confusion_matrix(\n",
    "            false_positives=count[0],\n",
    "            true_positives=count[1],\n",
    "            true_negatives=(n_negative - count[0]),\n",
    "            false_negatives=(n_positive - count[1]),\n",
    "        )\n",
    "        actual_counts_list.append(actual_counts)\n",
    "\n",
    "        operations = [(\">\", actual_counts)]\n",
    "\n",
    "        '''\n",
    "        x = fpr , y = tpr , obj = balanced accuracy score\n",
    "        operation: a 'function' which compares given argument with threshold using operation_string\n",
    "        metrics: a dictionary of answers for all the metrics in METRIC_DICT\n",
    "        ''' \n",
    "        for operation_string, counts in operations:\n",
    "            if isinstance(x_metric, str) and isinstance(y_metric, str) and isinstance(obj_metric, str):\n",
    "                x = METRIC_DICT[x_metric](counts)\n",
    "                y = METRIC_DICT[y_metric](counts)\n",
    "                obj = METRIC_DICT[obj_metric](counts)\n",
    "                metrics = {metric: METRIC_DICT[metric](counts) for metric in METRIC_DICT}\n",
    "\n",
    "                operation = ThresholdOperation(operation_string, threshold)\n",
    "\n",
    "                x_list.append(x)\n",
    "                y_list.append(y)\n",
    "                operation_list.append(operation)\n",
    "                objective_list.append(obj)\n",
    "                metrics_list.append(metrics)\n",
    "            else:\n",
    "                raise ValueError(\"Metrics must be specified as strings corresponding to keys in METRIC_DICT.\")\n",
    "    \n",
    "    return x_list, y_list, operation_list, objective_list, actual_counts_list, metrics_list\n"
   ]
  },
  {
   "cell_type": "code",
   "execution_count": 13,
   "metadata": {},
   "outputs": [],
   "source": [
    "class ApproxThresholdBrute():\n",
    "    def __init__(self, \n",
    "                y_score,\n",
    "                y_true,\n",
    "                group_assignments, \n",
    "                METRIC_DICT, \n",
    "                lambda_=0.5,\n",
    "                global_metric=f1_score, \n",
    "                max_epsilon=1.0,\n",
    "                subsample=10000):\n",
    "        \n",
    "        self.METRIC_DICT = METRIC_DICT \n",
    "        self.y_score = y_score\n",
    "        self.y_true = y_true\n",
    "        self.group_assignments = group_assignments\n",
    "\n",
    "        self.lambda_ = lambda_\n",
    "        self.thresholds_ = None\n",
    "        self.epsilons_ = None\n",
    "        self.global_metric = global_metric\n",
    "        self.max_epsilon = max_epsilon\n",
    "        self.best_objective_value = None\n",
    "\n",
    "        self.data = pd.DataFrame({\n",
    "            'score': y_score,\n",
    "            'label': y_true,\n",
    "            'group': group_assignments\n",
    "        })\n",
    "\n",
    "        if len(self.data) > 10000 and subsample:\n",
    "            # raise warning brute force is slow\n",
    "            warnings.warn(\"Brute force is slow for large datasets.\"+\\\n",
    "                        \" Subsampling to 10000 samples. \\nYou \"+\\\n",
    "                        \"can disable this by setting subsample=False.\")\n",
    "            self.data = self.data.sample(10000)\n",
    "\n",
    "        unique_groups = self.data['group'].unique()\n",
    "\n",
    "        self.metrics_per_group_per_threshold = {}\n",
    "        all_threshold_lists = []\n",
    "    \n",
    "        for g in tqdm(unique_groups):\n",
    "            group_data = self.data[self.data['group'] == g]\n",
    "            \n",
    "            _, _, operation_list, _ , _ , metrics_list = calculate_ROC_points(group_data)\n",
    "\n",
    "            for all_metrics, operation in zip(metrics_list, operation_list):\n",
    "                if g not in self.metrics_per_group_per_threshold:\n",
    "                    self.metrics_per_group_per_threshold[g] = {}\n",
    "\n",
    "                # Debugger \n",
    "                if not all_metrics:  \n",
    "                    raise ValueError(f\"Invalid metrics computed for {g} with thresh {operation.threshold}\")\n",
    "                \n",
    "                self.metrics_per_group_per_threshold[g][operation.threshold] = all_metrics\n",
    "                                \n",
    "            \n",
    "            all_threshold_lists.append(operation_list)\n",
    "        \n",
    "        \n",
    "        possible_thresholds_combos = self.product_approach(all_threshold_lists)\n",
    " \n",
    "        # Preparing variables for the objective function\n",
    "        global_metrics_per_thresh_combo = {}\n",
    "        metric_vectors_for_each_group = []\n",
    "        group_size_vector = [len(self.data[self.data['group'] == g]) for g in unique_groups]\n",
    "\n",
    "        groups = list(self.metrics_per_group_per_threshold.keys())\n",
    "\n",
    "        metrics_per_group = {}\n",
    "\n",
    "        #  Filling global_metrics_per_thresh_combo\n",
    "        for threshold_combo in possible_thresholds_combos:            \n",
    "            global_metrics_per_thresh_combo[tuple(threshold_combo)] = []\n",
    "\n",
    "            for i, threshold in enumerate(threshold_combo):\n",
    "                key = float(threshold.threshold)\n",
    "\n",
    "                # debugger\n",
    "                if float(threshold.threshold) not in self.metrics_per_group_per_threshold[groups[i]].keys():\n",
    "                    print(\"Error: threshold not in metrics_per_group_per_threshold\")\n",
    "                \n",
    "                if groups[i] not in metrics_per_group:\n",
    "                    metrics_per_group[groups[i]] = []\n",
    "\n",
    "                metrics_per_group[groups[i]].append(self.metrics_per_group_per_threshold[groups[i]][key])\n",
    "                global_metrics_per_thresh_combo[tuple(threshold_combo)].append(self.metrics_per_group_per_threshold[groups[i]][key][\"f1_score\"])\n",
    "\n",
    "        # Extract the desired metric keys\n",
    "        METRIC_KEYS = list(self.METRIC_DICT.keys()) \n",
    "\n",
    "        #  Filling metric_vectors_for_each_group\n",
    "        for key, value in metrics_per_group.items():\n",
    "            # Extract numeric metrics for all thresholds in this group\n",
    "            group_vector = []\n",
    "            for metric_dict in value:\n",
    "                group_vector.extend([metric_dict.get(k) for k in METRIC_KEYS])\n",
    "            \n",
    "            metric_vectors_for_each_group.append(np.array(group_vector))       \n",
    "        \n",
    "        all_objective_values = []\n",
    "        for i, threshold_combo in enumerate(possible_thresholds_combos):\n",
    "            objective_value, thresholds_used, epsilon_diffs = self.objective_func(\n",
    "                global_metrics_per_thresh_combo[tuple(threshold_combo)],\n",
    "                group_size_vector,\n",
    "                metric_vectors_for_each_group,\n",
    "                threshold_combo,\n",
    "                lambda_val=self.lambda_,\n",
    "                diff_strategy='euclidean'\n",
    "            )\n",
    "            all_objective_values.append((objective_value, thresholds_used))\n",
    "\n",
    "        sorted_objective_values = sorted(all_objective_values, key=lambda x: x[0])\n",
    "\n",
    "        best_objective_value, best_threshold_combo = sorted_objective_values[0]\n",
    "        for i in range(len(sorted_objective_values)-1, -1, -1):\n",
    "            objective_value = sorted_objective_values[i][0]\n",
    "            threshold_combo = sorted_objective_values[i][1]\n",
    "            if float('inf') not in [threshold.threshold for threshold in threshold_combo]:\n",
    "                best_objective_value, best_threshold_combo =  objective_value, threshold_combo\n",
    "                break\n",
    "        \n",
    "\n",
    "        self.best_objective_value = best_objective_value\n",
    "        self.best_threshold_combo = best_threshold_combo\n",
    "\n",
    "        print(\"Best Objective Value:\", best_objective_value)\n",
    "        print(\"Best Threshold Combination:\", best_threshold_combo)\n",
    "\n",
    "    @staticmethod\n",
    "    def objective_func(global_metric_for_each_group,\n",
    "                   group_size_vector,\n",
    "                   metric_vectors_for_each_group, \n",
    "                   threshold_combo,\n",
    "                   lambda_val=0.5,\n",
    "                   diff_strategy='euclidean'):\n",
    "\n",
    "        global_performance_weighted = np.average(global_metric_for_each_group, weights=group_size_vector)\n",
    "\n",
    "        objective = 0\n",
    "        epsilon_diffs = {}\n",
    "        for i, group_vector in enumerate(metric_vectors_for_each_group):\n",
    "            for j, other_group_vector in enumerate(metric_vectors_for_each_group):\n",
    "                if i == j:\n",
    "                    continue\n",
    "                # Calculate distances\n",
    "                if diff_strategy == 'euclidean':\n",
    "                    distances = cdist(np.array(group_vector).reshape(1, -1), np.array(other_group_vector).reshape(1, -1), metric='euclidean')\n",
    "                    \n",
    "                elif diff_strategy == 'cosine':\n",
    "                    distances = np.dot(group_vector, other_group_vector) / (\n",
    "                        np.linalg.norm(group_vector) * np.linalg.norm(other_group_vector))\n",
    "                else:\n",
    "                    raise ValueError(f\"Invalid diff strategy: {diff_strategy}\")\n",
    "                objective += np.sum(distances)\n",
    "                epsilon_diff = np.abs(group_vector - other_group_vector)\n",
    "                epsilon_diffs[(i, j)] = epsilon_diff\n",
    "\n",
    "        # Calculate A choose 2\n",
    "        n_unique_groups = len(metric_vectors_for_each_group)\n",
    "        A_choose_2 = n_unique_groups * (n_unique_groups - 1) / 2\n",
    "\n",
    "\n",
    "        objective = (1 - lambda_val) * (objective / A_choose_2) + lambda_val * (1 - global_performance_weighted)\n",
    "        return objective, threshold_combo, epsilon_diffs\n",
    "\n",
    "    @staticmethod\n",
    "    def product_approach(all_lists, use_numpy=True):\n",
    "        def numpy_cartesian_product(lists):\n",
    "            arrays = [np.array(lst) for lst in lists]\n",
    "            grid = np.meshgrid(*arrays, indexing='ij')\n",
    "            return np.stack(grid, axis=-1).reshape(-1, len(arrays))\n",
    "\n",
    "        if use_numpy:\n",
    "            return numpy_cartesian_product(all_lists)\n",
    "        else:\n",
    "            return list(product(*all_lists))\n",
    "\n",
    "    @staticmethod\n",
    "    def _get_counts(labels):\n",
    "        \"\"\"Return the overall, positive, and negative counts of the labels.\n",
    "\n",
    "        :param labels: the labels of the samples\n",
    "        :type labels: list\n",
    "        :return: a tuple containing the overall, positive, and negative counts of the labels\n",
    "        :rtype: tuple of int, int, int\n",
    "        \"\"\"\n",
    "        n = len(labels)\n",
    "        n_positive = sum(labels)\n",
    "        n_negative = n - n_positive\n",
    "        return n, n_positive, n_negative\n",
    "\n",
    "    @staticmethod\n",
    "    def _extend_confusion_matrix( \n",
    "            *, true_positives, false_positives, true_negatives, false_negatives\n",
    "        ):\n",
    "            return Bunch(\n",
    "                true_positives=true_positives,\n",
    "                false_positives=false_positives,\n",
    "                true_negatives=true_negatives,\n",
    "                false_negatives=false_negatives,\n",
    "                predicted_positives=(true_positives + false_positives),\n",
    "                predicted_negatives=(true_negatives + false_negatives),\n",
    "                positives=(true_positives + false_negatives),\n",
    "                negatives=(true_negatives + false_positives),\n",
    "                n=(true_positives + true_negatives + false_positives + false_negatives),\n",
    "            )\n",
    "\n",
    "    # haven't used this function \n",
    "    @staticmethod\n",
    "    def calculate_ROC_points(data, METRIC_DICT):\n",
    "        data = data.copy()\n",
    "        data_sorted = data.sort_values(by=SCORE_KEY, ascending=False)\n",
    "\n",
    "        scores = list(data_sorted['score'])\n",
    "        labels = list(data_sorted['label'])\n",
    "\n",
    "        n, n_positive, n_negative = ApproxThresholdBrute._get_counts(labels)\n",
    "        \n",
    "        # Use actual score values for thresholds\n",
    "        thresholds = np.unique(scores)\n",
    "        operation_list, actual_counts_list, metrics_list = [], [], []\n",
    "\n",
    "        for threshold in thresholds:\n",
    "            predictions = (scores > threshold).astype(int)\n",
    "            tp = np.sum((predictions == 1) & (labels == 1))\n",
    "            fp = np.sum((predictions == 1) & (labels == 0))\n",
    "            tn = np.sum((predictions == 0) & (labels == 0))\n",
    "            fn = np.sum((predictions == 0) & (labels == 1))\n",
    "\n",
    "            actual_counts = ApproxThresholdBrute._extend_confusion_matrix(\n",
    "                false_positives=fp,\n",
    "                true_positives=tp,\n",
    "                true_negatives=tn,\n",
    "                false_negatives=fn,\n",
    "            )\n",
    "            \n",
    "            metrics = {metric: METRIC_DICT[metric](actual_counts) for metric in METRIC_DICT}\n",
    "            operation = ThresholdOperation(\">\", float(threshold))\n",
    "            \n",
    "            operation_list.append(operation)\n",
    "            actual_counts_list.append(actual_counts)\n",
    "            metrics_list.append(metrics)\n",
    "\n",
    "        return operation_list, actual_counts_list, metrics_list\n",
    "\n",
    "    @staticmethod\n",
    "    def generate_batch_combinations(possible_thresholds, start, end):\n",
    "        \"\"\"Generate combinations for a batch of thresholds\"\"\"\n",
    "        first_group_thresholds = possible_thresholds[0][start:end]\n",
    "        other_groups_thresholds = possible_thresholds[1:]\n",
    "        \n",
    "        for combo in itertools.product(first_group_thresholds, *other_groups_thresholds):\n",
    "            yield combo\n",
    "\n",
    "    def f1_score(self, metric):\n",
    "        \"\"\"\n",
    "        metric: a dictionary of metrics for each group\n",
    "\n",
    "        \"\"\"\n",
    "        # Extract the dictionary from the NumPy array\n",
    "        return (metric.item()['f1_score'])\n",
    "      "
   ]
  },
  {
   "cell_type": "code",
   "execution_count": 14,
   "metadata": {},
   "outputs": [
    {
     "data": {
      "application/vnd.jupyter.widget-view+json": {
       "model_id": "f541c526099f48bd946257a6a004fd89",
       "version_major": 2,
       "version_minor": 0
      },
      "text/plain": [
       "  0%|          | 0/2 [00:00<?, ?it/s]"
      ]
     },
     "metadata": {},
     "output_type": "display_data"
    },
    {
     "name": "stdout",
     "output_type": "stream",
     "text": [
      "Best Objective Value: 49.31688768816922\n",
      "Best Threshold Combination: [[>0.985310822725296] [>0.9956301748752594]]\n"
     ]
    },
    {
     "data": {
      "application/vnd.plotly.v1+json": {
       "config": {
        "plotlyServerURL": "https://plot.ly"
       },
       "data": [
        {
         "mode": "lines+markers",
         "name": "Group 0",
         "type": "scatter",
         "x": [
          0,
          0,
          0,
          0,
          0,
          0,
          0,
          0,
          0,
          0,
          0,
          0,
          0,
          0,
          0,
          0,
          0,
          0.058823529411764705,
          0.11764705882352941,
          0.17647058823529413,
          0.23529411764705882,
          0.29411764705882354,
          0.35294117647058826,
          0.4117647058823529,
          0.47058823529411764,
          0.5294117647058824,
          0.5882352941176471,
          0.6470588235294118,
          0.7058823529411765,
          0.7647058823529411,
          0.8235294117647058,
          0.8823529411764706,
          1
         ],
         "y": [
          0,
          0.05263157894736842,
          0.21052631578947367,
          0.2631578947368421,
          0.3157894736842105,
          0.3684210526315789,
          0.42105263157894735,
          0.5263157894736842,
          0.5789473684210527,
          0.631578947368421,
          0.6842105263157895,
          0.7368421052631579,
          0.7894736842105263,
          0.8421052631578947,
          0.8947368421052632,
          0.9473684210526315,
          1,
          1,
          1,
          1,
          1,
          1,
          1,
          1,
          1,
          1,
          1,
          1,
          1,
          1,
          1,
          1,
          1
         ]
        },
        {
         "mode": "lines+markers",
         "name": "Group 1",
         "type": "scatter",
         "x": [
          0,
          0,
          0,
          0,
          0,
          0,
          0,
          0,
          0,
          0,
          0,
          0,
          0,
          0,
          0,
          0,
          0,
          0,
          0,
          0,
          0.04,
          0.08,
          0.12,
          0.16,
          0.2,
          0.24,
          0.28,
          0.32,
          0.36,
          0.4,
          0.44,
          0.48,
          0.52,
          0.56,
          0.6,
          0.64,
          0.68,
          0.72,
          0.76,
          0.8,
          0.84,
          0.88,
          0.92,
          0.96,
          1
         ],
         "y": [
          0,
          0.05263157894736842,
          0.10526315789473684,
          0.15789473684210525,
          0.21052631578947367,
          0.2631578947368421,
          0.3157894736842105,
          0.3684210526315789,
          0.42105263157894735,
          0.47368421052631576,
          0.5263157894736842,
          0.5789473684210527,
          0.631578947368421,
          0.6842105263157895,
          0.7368421052631579,
          0.7894736842105263,
          0.8421052631578947,
          0.8947368421052632,
          0.9473684210526315,
          1,
          1,
          1,
          1,
          1,
          1,
          1,
          1,
          1,
          1,
          1,
          1,
          1,
          1,
          1,
          1,
          1,
          1,
          1,
          1,
          1,
          1,
          1,
          1,
          1,
          1
         ]
        },
        {
         "line": {
          "dash": "dash"
         },
         "mode": "lines",
         "name": "Random",
         "type": "scatter",
         "x": [
          0,
          1
         ],
         "y": [
          0,
          1
         ]
        }
       ],
       "layout": {
        "template": {
         "data": {
          "bar": [
           {
            "error_x": {
             "color": "#2a3f5f"
            },
            "error_y": {
             "color": "#2a3f5f"
            },
            "marker": {
             "line": {
              "color": "#E5ECF6",
              "width": 0.5
             },
             "pattern": {
              "fillmode": "overlay",
              "size": 10,
              "solidity": 0.2
             }
            },
            "type": "bar"
           }
          ],
          "barpolar": [
           {
            "marker": {
             "line": {
              "color": "#E5ECF6",
              "width": 0.5
             },
             "pattern": {
              "fillmode": "overlay",
              "size": 10,
              "solidity": 0.2
             }
            },
            "type": "barpolar"
           }
          ],
          "carpet": [
           {
            "aaxis": {
             "endlinecolor": "#2a3f5f",
             "gridcolor": "white",
             "linecolor": "white",
             "minorgridcolor": "white",
             "startlinecolor": "#2a3f5f"
            },
            "baxis": {
             "endlinecolor": "#2a3f5f",
             "gridcolor": "white",
             "linecolor": "white",
             "minorgridcolor": "white",
             "startlinecolor": "#2a3f5f"
            },
            "type": "carpet"
           }
          ],
          "choropleth": [
           {
            "colorbar": {
             "outlinewidth": 0,
             "ticks": ""
            },
            "type": "choropleth"
           }
          ],
          "contour": [
           {
            "colorbar": {
             "outlinewidth": 0,
             "ticks": ""
            },
            "colorscale": [
             [
              0,
              "#0d0887"
             ],
             [
              0.1111111111111111,
              "#46039f"
             ],
             [
              0.2222222222222222,
              "#7201a8"
             ],
             [
              0.3333333333333333,
              "#9c179e"
             ],
             [
              0.4444444444444444,
              "#bd3786"
             ],
             [
              0.5555555555555556,
              "#d8576b"
             ],
             [
              0.6666666666666666,
              "#ed7953"
             ],
             [
              0.7777777777777778,
              "#fb9f3a"
             ],
             [
              0.8888888888888888,
              "#fdca26"
             ],
             [
              1,
              "#f0f921"
             ]
            ],
            "type": "contour"
           }
          ],
          "contourcarpet": [
           {
            "colorbar": {
             "outlinewidth": 0,
             "ticks": ""
            },
            "type": "contourcarpet"
           }
          ],
          "heatmap": [
           {
            "colorbar": {
             "outlinewidth": 0,
             "ticks": ""
            },
            "colorscale": [
             [
              0,
              "#0d0887"
             ],
             [
              0.1111111111111111,
              "#46039f"
             ],
             [
              0.2222222222222222,
              "#7201a8"
             ],
             [
              0.3333333333333333,
              "#9c179e"
             ],
             [
              0.4444444444444444,
              "#bd3786"
             ],
             [
              0.5555555555555556,
              "#d8576b"
             ],
             [
              0.6666666666666666,
              "#ed7953"
             ],
             [
              0.7777777777777778,
              "#fb9f3a"
             ],
             [
              0.8888888888888888,
              "#fdca26"
             ],
             [
              1,
              "#f0f921"
             ]
            ],
            "type": "heatmap"
           }
          ],
          "heatmapgl": [
           {
            "colorbar": {
             "outlinewidth": 0,
             "ticks": ""
            },
            "colorscale": [
             [
              0,
              "#0d0887"
             ],
             [
              0.1111111111111111,
              "#46039f"
             ],
             [
              0.2222222222222222,
              "#7201a8"
             ],
             [
              0.3333333333333333,
              "#9c179e"
             ],
             [
              0.4444444444444444,
              "#bd3786"
             ],
             [
              0.5555555555555556,
              "#d8576b"
             ],
             [
              0.6666666666666666,
              "#ed7953"
             ],
             [
              0.7777777777777778,
              "#fb9f3a"
             ],
             [
              0.8888888888888888,
              "#fdca26"
             ],
             [
              1,
              "#f0f921"
             ]
            ],
            "type": "heatmapgl"
           }
          ],
          "histogram": [
           {
            "marker": {
             "pattern": {
              "fillmode": "overlay",
              "size": 10,
              "solidity": 0.2
             }
            },
            "type": "histogram"
           }
          ],
          "histogram2d": [
           {
            "colorbar": {
             "outlinewidth": 0,
             "ticks": ""
            },
            "colorscale": [
             [
              0,
              "#0d0887"
             ],
             [
              0.1111111111111111,
              "#46039f"
             ],
             [
              0.2222222222222222,
              "#7201a8"
             ],
             [
              0.3333333333333333,
              "#9c179e"
             ],
             [
              0.4444444444444444,
              "#bd3786"
             ],
             [
              0.5555555555555556,
              "#d8576b"
             ],
             [
              0.6666666666666666,
              "#ed7953"
             ],
             [
              0.7777777777777778,
              "#fb9f3a"
             ],
             [
              0.8888888888888888,
              "#fdca26"
             ],
             [
              1,
              "#f0f921"
             ]
            ],
            "type": "histogram2d"
           }
          ],
          "histogram2dcontour": [
           {
            "colorbar": {
             "outlinewidth": 0,
             "ticks": ""
            },
            "colorscale": [
             [
              0,
              "#0d0887"
             ],
             [
              0.1111111111111111,
              "#46039f"
             ],
             [
              0.2222222222222222,
              "#7201a8"
             ],
             [
              0.3333333333333333,
              "#9c179e"
             ],
             [
              0.4444444444444444,
              "#bd3786"
             ],
             [
              0.5555555555555556,
              "#d8576b"
             ],
             [
              0.6666666666666666,
              "#ed7953"
             ],
             [
              0.7777777777777778,
              "#fb9f3a"
             ],
             [
              0.8888888888888888,
              "#fdca26"
             ],
             [
              1,
              "#f0f921"
             ]
            ],
            "type": "histogram2dcontour"
           }
          ],
          "mesh3d": [
           {
            "colorbar": {
             "outlinewidth": 0,
             "ticks": ""
            },
            "type": "mesh3d"
           }
          ],
          "parcoords": [
           {
            "line": {
             "colorbar": {
              "outlinewidth": 0,
              "ticks": ""
             }
            },
            "type": "parcoords"
           }
          ],
          "pie": [
           {
            "automargin": true,
            "type": "pie"
           }
          ],
          "scatter": [
           {
            "fillpattern": {
             "fillmode": "overlay",
             "size": 10,
             "solidity": 0.2
            },
            "type": "scatter"
           }
          ],
          "scatter3d": [
           {
            "line": {
             "colorbar": {
              "outlinewidth": 0,
              "ticks": ""
             }
            },
            "marker": {
             "colorbar": {
              "outlinewidth": 0,
              "ticks": ""
             }
            },
            "type": "scatter3d"
           }
          ],
          "scattercarpet": [
           {
            "marker": {
             "colorbar": {
              "outlinewidth": 0,
              "ticks": ""
             }
            },
            "type": "scattercarpet"
           }
          ],
          "scattergeo": [
           {
            "marker": {
             "colorbar": {
              "outlinewidth": 0,
              "ticks": ""
             }
            },
            "type": "scattergeo"
           }
          ],
          "scattergl": [
           {
            "marker": {
             "colorbar": {
              "outlinewidth": 0,
              "ticks": ""
             }
            },
            "type": "scattergl"
           }
          ],
          "scattermapbox": [
           {
            "marker": {
             "colorbar": {
              "outlinewidth": 0,
              "ticks": ""
             }
            },
            "type": "scattermapbox"
           }
          ],
          "scatterpolar": [
           {
            "marker": {
             "colorbar": {
              "outlinewidth": 0,
              "ticks": ""
             }
            },
            "type": "scatterpolar"
           }
          ],
          "scatterpolargl": [
           {
            "marker": {
             "colorbar": {
              "outlinewidth": 0,
              "ticks": ""
             }
            },
            "type": "scatterpolargl"
           }
          ],
          "scatterternary": [
           {
            "marker": {
             "colorbar": {
              "outlinewidth": 0,
              "ticks": ""
             }
            },
            "type": "scatterternary"
           }
          ],
          "surface": [
           {
            "colorbar": {
             "outlinewidth": 0,
             "ticks": ""
            },
            "colorscale": [
             [
              0,
              "#0d0887"
             ],
             [
              0.1111111111111111,
              "#46039f"
             ],
             [
              0.2222222222222222,
              "#7201a8"
             ],
             [
              0.3333333333333333,
              "#9c179e"
             ],
             [
              0.4444444444444444,
              "#bd3786"
             ],
             [
              0.5555555555555556,
              "#d8576b"
             ],
             [
              0.6666666666666666,
              "#ed7953"
             ],
             [
              0.7777777777777778,
              "#fb9f3a"
             ],
             [
              0.8888888888888888,
              "#fdca26"
             ],
             [
              1,
              "#f0f921"
             ]
            ],
            "type": "surface"
           }
          ],
          "table": [
           {
            "cells": {
             "fill": {
              "color": "#EBF0F8"
             },
             "line": {
              "color": "white"
             }
            },
            "header": {
             "fill": {
              "color": "#C8D4E3"
             },
             "line": {
              "color": "white"
             }
            },
            "type": "table"
           }
          ]
         },
         "layout": {
          "annotationdefaults": {
           "arrowcolor": "#2a3f5f",
           "arrowhead": 0,
           "arrowwidth": 1
          },
          "autotypenumbers": "strict",
          "coloraxis": {
           "colorbar": {
            "outlinewidth": 0,
            "ticks": ""
           }
          },
          "colorscale": {
           "diverging": [
            [
             0,
             "#8e0152"
            ],
            [
             0.1,
             "#c51b7d"
            ],
            [
             0.2,
             "#de77ae"
            ],
            [
             0.3,
             "#f1b6da"
            ],
            [
             0.4,
             "#fde0ef"
            ],
            [
             0.5,
             "#f7f7f7"
            ],
            [
             0.6,
             "#e6f5d0"
            ],
            [
             0.7,
             "#b8e186"
            ],
            [
             0.8,
             "#7fbc41"
            ],
            [
             0.9,
             "#4d9221"
            ],
            [
             1,
             "#276419"
            ]
           ],
           "sequential": [
            [
             0,
             "#0d0887"
            ],
            [
             0.1111111111111111,
             "#46039f"
            ],
            [
             0.2222222222222222,
             "#7201a8"
            ],
            [
             0.3333333333333333,
             "#9c179e"
            ],
            [
             0.4444444444444444,
             "#bd3786"
            ],
            [
             0.5555555555555556,
             "#d8576b"
            ],
            [
             0.6666666666666666,
             "#ed7953"
            ],
            [
             0.7777777777777778,
             "#fb9f3a"
            ],
            [
             0.8888888888888888,
             "#fdca26"
            ],
            [
             1,
             "#f0f921"
            ]
           ],
           "sequentialminus": [
            [
             0,
             "#0d0887"
            ],
            [
             0.1111111111111111,
             "#46039f"
            ],
            [
             0.2222222222222222,
             "#7201a8"
            ],
            [
             0.3333333333333333,
             "#9c179e"
            ],
            [
             0.4444444444444444,
             "#bd3786"
            ],
            [
             0.5555555555555556,
             "#d8576b"
            ],
            [
             0.6666666666666666,
             "#ed7953"
            ],
            [
             0.7777777777777778,
             "#fb9f3a"
            ],
            [
             0.8888888888888888,
             "#fdca26"
            ],
            [
             1,
             "#f0f921"
            ]
           ]
          },
          "colorway": [
           "#636efa",
           "#EF553B",
           "#00cc96",
           "#ab63fa",
           "#FFA15A",
           "#19d3f3",
           "#FF6692",
           "#B6E880",
           "#FF97FF",
           "#FECB52"
          ],
          "font": {
           "color": "#2a3f5f"
          },
          "geo": {
           "bgcolor": "white",
           "lakecolor": "white",
           "landcolor": "#E5ECF6",
           "showlakes": true,
           "showland": true,
           "subunitcolor": "white"
          },
          "hoverlabel": {
           "align": "left"
          },
          "hovermode": "closest",
          "mapbox": {
           "style": "light"
          },
          "paper_bgcolor": "white",
          "plot_bgcolor": "#E5ECF6",
          "polar": {
           "angularaxis": {
            "gridcolor": "white",
            "linecolor": "white",
            "ticks": ""
           },
           "bgcolor": "#E5ECF6",
           "radialaxis": {
            "gridcolor": "white",
            "linecolor": "white",
            "ticks": ""
           }
          },
          "scene": {
           "xaxis": {
            "backgroundcolor": "#E5ECF6",
            "gridcolor": "white",
            "gridwidth": 2,
            "linecolor": "white",
            "showbackground": true,
            "ticks": "",
            "zerolinecolor": "white"
           },
           "yaxis": {
            "backgroundcolor": "#E5ECF6",
            "gridcolor": "white",
            "gridwidth": 2,
            "linecolor": "white",
            "showbackground": true,
            "ticks": "",
            "zerolinecolor": "white"
           },
           "zaxis": {
            "backgroundcolor": "#E5ECF6",
            "gridcolor": "white",
            "gridwidth": 2,
            "linecolor": "white",
            "showbackground": true,
            "ticks": "",
            "zerolinecolor": "white"
           }
          },
          "shapedefaults": {
           "line": {
            "color": "#2a3f5f"
           }
          },
          "ternary": {
           "aaxis": {
            "gridcolor": "white",
            "linecolor": "white",
            "ticks": ""
           },
           "baxis": {
            "gridcolor": "white",
            "linecolor": "white",
            "ticks": ""
           },
           "bgcolor": "#E5ECF6",
           "caxis": {
            "gridcolor": "white",
            "linecolor": "white",
            "ticks": ""
           }
          },
          "title": {
           "x": 0.05
          },
          "xaxis": {
           "automargin": true,
           "gridcolor": "white",
           "linecolor": "white",
           "ticks": "",
           "title": {
            "standoff": 15
           },
           "zerolinecolor": "white",
           "zerolinewidth": 2
          },
          "yaxis": {
           "automargin": true,
           "gridcolor": "white",
           "linecolor": "white",
           "ticks": "",
           "title": {
            "standoff": 15
           },
           "zerolinecolor": "white",
           "zerolinewidth": 2
          }
         }
        },
        "title": {
         "text": "ROC Curve by Group"
        },
        "xaxis": {
         "title": {
          "text": "ADJ False Positive Rate"
         }
        },
        "yaxis": {
         "title": {
          "text": "ADJ True Positive Rate"
         }
        }
       }
      }
     },
     "metadata": {},
     "output_type": "display_data"
    },
    {
     "name": "stdout",
     "output_type": "stream",
     "text": [
      "Balanced Accuracy:  0.7708333333333333\n",
      "ROC AUC:  0.7708333333333333\n",
      "Accuracy:  0.75\n",
      "F1 Score:  0.761904761904762\n",
      "Equalized Odds Ratio:  0.0\n",
      "\n"
     ]
    }
   ],
   "source": [
    "\n",
    "X, Y, A = load_synthetic_data()\n",
    "\n",
    "random_indices = np.random.choice(X.index, size=100, replace=False)\n",
    "X = X.loc[random_indices] \n",
    "Y = Y.loc[random_indices] \n",
    "A = A.loc[random_indices]\n",
    "\n",
    "y = Y.values\n",
    "\n",
    "X_train, X_test, y_train, y_test, A_train, A_test = train_test_split( X, y, A, test_size=0.2, random_state=42)\n",
    "model = xgb.XGBClassifier()\n",
    "\n",
    "model.fit(X_train, y_train)\n",
    "preds_proba = model.predict_proba(X_train)[:, 1]\n",
    "\n",
    "data = pd.DataFrame({\n",
    "        'score': preds_proba,\n",
    "        'label': y_train,\n",
    "        'group': A_train.values \n",
    "        })\n",
    "\n",
    "at = ApproxThresholdBrute(y_score=preds_proba, y_true=y_train, group_assignments=A_train.values, METRIC_DICT=METRIC_DICT)\n",
    "\n",
    "operation_list, objective_list, actual_counts_list, metrics_list = plot_ROC_plotly(data, calculate_ROC_points)\n",
    "\n",
    "group_data = {g: grp.drop(columns='group') for g, grp in data.groupby('group')}\n",
    "\n",
    "print_metrics(y_test, model.predict(X_test), A_test)\n"
   ]
  }
 ],
 "metadata": {
  "kernelspec": {
   "display_name": "base",
   "language": "python",
   "name": "python3"
  },
  "language_info": {
   "codemirror_mode": {
    "name": "ipython",
    "version": 3
   },
   "file_extension": ".py",
   "mimetype": "text/x-python",
   "name": "python",
   "nbconvert_exporter": "python",
   "pygments_lexer": "ipython3",
   "version": "3.11.4"
  }
 },
 "nbformat": 4,
 "nbformat_minor": 2
}
